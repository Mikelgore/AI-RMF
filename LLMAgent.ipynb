{
  "nbformat": 4,
  "nbformat_minor": 0,
  "metadata": {
    "colab": {
      "provenance": [],
      "authorship_tag": "ABX9TyOG6m9VUe5PeEtidszqjrzn",
      "include_colab_link": true
    },
    "kernelspec": {
      "name": "python3",
      "display_name": "Python 3"
    },
    "language_info": {
      "name": "python"
    }
  },
  "cells": [
    {
      "cell_type": "markdown",
      "metadata": {
        "id": "view-in-github",
        "colab_type": "text"
      },
      "source": [
        "<a href=\"https://colab.research.google.com/github/Mikelgore/AI-RMF/blob/main/LLMAgent.ipynb\" target=\"_parent\"><img src=\"https://colab.research.google.com/assets/colab-badge.svg\" alt=\"Open In Colab\"/></a>"
      ]
    },
    {
      "cell_type": "code",
      "execution_count": null,
      "metadata": {
        "id": "VHIwE4QQdqF_"
      },
      "outputs": [],
      "source": [
        "# Example: Defining the basic identity\n",
        "capital_agent = LlmAgent(\n",
        "    model=\"gemini-2.0-flash\",\n",
        "    name=\"capital_agent\",\n",
        "    description=\"Answers user questions about the capital city of a given country.\"\n",
        "    # instruction and tools will be added next\n",
        ")\n",
        "# Example: Adding instructions\n",
        "capital_agent = LlmAgent(\n",
        "    model=\"gemini-2.0-flash\",\n",
        "    name=\"capital_agent\",\n",
        "    description=\"Answers user questions about the capital city of a given country.\",\n",
        "    instruction=\"\"\"You are an agent that provides the capital city of a country.\n",
        "When a user asks for the capital of a country:\n",
        "1. Identify the country name from the user's query.\n",
        "2. Use the `get_capital_city` tool to find the capital.\n",
        "3. Respond clearly to the user, stating the capital city.\n",
        "Example Query: \"What's the capital of {country}?\"\n",
        "Example Response: \"The capital of France is Paris.\"\n",
        "\"\"\",\n",
        "    # tools will be added next\n",
        ")\n",
        "# Define a tool function\n",
        "def get_capital_city(country: str) -> str:\n",
        "  \"\"\"Retrieves the capital city for a given country.\"\"\"\n",
        "  # Replace with actual logic (e.g., API call, database lookup)\n",
        "  capitals = {\"france\": \"Paris\", \"japan\": \"Tokyo\", \"canada\": \"Ottawa\"}\n",
        "  return capitals.get(country.lower(), f\"Sorry, I don't know the capital of {country}.\")\n",
        "\n",
        "# Add the tool to the agent\n",
        "capital_agent = LlmAgent(\n",
        "    model=\"gemini-2.0-flash\",\n",
        "    name=\"capital_agent\",\n",
        "    description=\"Answers user questions about the capital city of a given country.\",\n",
        "    instruction=\"\"\"You are an agent that provides the capital city of a country... (previous instruction text)\"\"\",\n",
        "    tools=[get_capital_city] # Provide the function directly\n",
        ")\n",
        "from google.genai import types\n",
        "\n",
        "agent = LlmAgent(\n",
        "    # ... other params\n",
        "    generate_content_config=types.GenerateContentConfig(\n",
        "        temperature=0.2, # More deterministic output\n",
        "        max_output_tokens=250\n",
        "    )\n",
        ")\n",
        ""
      ]
    }
  ]
}